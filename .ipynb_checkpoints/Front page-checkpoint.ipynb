{
 "cells": [
  {
   "cell_type": "markdown",
   "id": "2a9f06f8",
   "metadata": {},
   "source": [
    "### O prima pag/ widget"
   ]
  },
  {
   "cell_type": "markdown",
   "id": "de4b79ca",
   "metadata": {},
   "source": [
    "# Information Visualization Project\n",
    "\n",
    "## Team: Bogdan Ouatu, Lida Ghadamiyan, Smit Oanea\n",
    "\n",
    "\n"
   ]
  },
  {
   "cell_type": "markdown",
   "id": "6d4dada0",
   "metadata": {},
   "source": [
    "The COVID-19 pandemic has led to a significant loss of human life throughout the world and poses an unparalleled risk to public health and our lives in general. It also made us learn some important lessons regarding how to protect us and the ones around. In order to do this, it is important to stay informed. This is what we aim to do with this project, by providing the data to be seen in a way that it is easier to be understood by the user. Through this project, the plots are customizable by selecting the prefered display version (bar, line or area). It is also possible to select which category to be shown (HCW, LTCF, AgeUNK) as well as the age group. This project shown data regarding vaccination, variants, notification rate (The number of cases, new and relapse, notified to the national health authorities during a specified period of time per 100,000 population) and hospital admission. "
   ]
  },
  {
   "cell_type": "markdown",
   "id": "00334787",
   "metadata": {},
   "source": [
    "![Image](https://upload.wikimedia.org/wikipedia/commons/d/d6/Coronavirus_pandemic.png)"
   ]
  },
  {
   "cell_type": "markdown",
   "id": "e246dc6b",
   "metadata": {},
   "source": [
    "### Asta e pt Vaccine widget"
   ]
  },
  {
   "cell_type": "markdown",
   "id": "98548e27",
   "metadata": {},
   "source": [
    "##### Asta ori scrisa la fiecare widget, ori la pag principala\n",
    "\n",
    "The coronavirus COVID-19 is affecting 227 countries and territories. The day is reset after midnight GMT+0. The list of countries and their regional classification is based on the United Nations Geoscheme."
   ]
  },
  {
   "cell_type": "markdown",
   "id": "c4e73d6c",
   "metadata": {},
   "source": [
    "Select your preferences:\n",
    " \n",
    " \n",
    "HCW - health care worker\n",
    "\n",
    "LTCF - long term care facilities\n",
    "\n",
    "AgeUNK - ?"
   ]
  },
  {
   "cell_type": "code",
   "execution_count": null,
   "id": "dc8157b9",
   "metadata": {},
   "outputs": [],
   "source": []
  }
 ],
 "metadata": {
  "kernelspec": {
   "display_name": "Python 3 (ipykernel)",
   "language": "python",
   "name": "python3"
  },
  "language_info": {
   "codemirror_mode": {
    "name": "ipython",
    "version": 3
   },
   "file_extension": ".py",
   "mimetype": "text/x-python",
   "name": "python",
   "nbconvert_exporter": "python",
   "pygments_lexer": "ipython3",
   "version": "3.8.8"
  }
 },
 "nbformat": 4,
 "nbformat_minor": 5
}
